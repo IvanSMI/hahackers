{
 "cells": [
  {
   "cell_type": "code",
   "execution_count": 1,
   "id": "e9d1bade-d7ba-4470-ba46-4ae21a636f85",
   "metadata": {},
   "outputs": [],
   "source": [
    "import pandas as pd"
   ]
  },
  {
   "cell_type": "code",
   "execution_count": 4,
   "id": "a2d7d4c4-6828-4af1-8d39-b578e2438e12",
   "metadata": {},
   "outputs": [],
   "source": [
    "final_features_traintest = pd.read_csv('FINAL_FEATURES_TRAINTEST.tsv', sep = '\\t')\n",
    "final_targets_traintest = pd.read_csv('FINAL_TARGETS_DATES_TRAINTEST.tsv', sep = '\\t')"
   ]
  },
  {
   "cell_type": "code",
   "execution_count": 5,
   "id": "76af7223-6fc1-44d0-be19-324e18924db4",
   "metadata": {
    "tags": []
   },
   "outputs": [],
   "source": [
    "final_targets_traintest_learn = final_targets_traintest.loc[final_targets_traintest['TARGET']!='test']\n",
    "final_targets_traintest_test = final_targets_traintest.loc[final_targets_traintest['TARGET']=='test']\n",
    "client_ids_in_features = [x for x in final_targets_traintest_learn['CLIENT_ID'] if x in final_features_traintest['CLIENT_ID']]\n",
    "client_ids_in_features_test = [x for x in final_targets_traintest_test['CLIENT_ID'] if x in final_features_traintest['CLIENT_ID']]"
   ]
  },
  {
   "cell_type": "code",
   "execution_count": 13,
   "id": "5d8563ae-528b-4439-a4b1-3750c2fd2d6f",
   "metadata": {},
   "outputs": [],
   "source": [
    "target_true = []\n",
    "target_false = []\n",
    "for i in client_ids_in_features:\n",
    "    tar = final_targets_traintest.loc[final_targets_traintest['CLIENT_ID'] == i]\n",
    "    if list(tar['TARGET']) != [] and int(tar['TARGET']) == 1:\n",
    "        target_true.append(list(final_features_traintest.loc[final_features_traintest['CLIENT_ID'] == i].values[0][1:]))\n",
    "    elif list(tar['TARGET']) != [] and int(tar['TARGET']) == 0:\n",
    "        v = final_features_traintest.loc[final_features_traintest['CLIENT_ID'] == i].values\n",
    "        if len(v) != 0:\n",
    "            target_false.append(list(final_features_traintest.loc[final_features_traintest['CLIENT_ID'] == i].values[0][1:]))\n",
    "        "
   ]
  },
  {
   "cell_type": "code",
   "execution_count": 14,
   "id": "70941ac7-a661-4f6c-a37a-b24e004210c1",
   "metadata": {},
   "outputs": [],
   "source": [
    "def fun(x):\n",
    "    lp = []\n",
    "    ln = []\n",
    "    for i in target_true:\n",
    "        l_temp = []\n",
    "        for j in range(len(i)):\n",
    "            l_temp.append((i[j] - x[j])**2)\n",
    "        lp.append(sum(l_temp)**0.5)\n",
    "    for i in target_false:\n",
    "        l_temp = []\n",
    "        for j in range(len(i)):\n",
    "            l_temp.append((i[j] - x[j])**2)\n",
    "        ln.append(sum(l_temp)**0.5)\n",
    "    fin = [min(ln), min(lp)]\n",
    "    if sum(fin) == 0:\n",
    "        return 0.5\n",
    "    elif fin.index(min(fin)) == 0:\n",
    "        target_false.append(x)\n",
    "        return min(fin)/sum(fin)\n",
    "    else:\n",
    "        target_true.append(x)\n",
    "        return 1 - min(fin)/sum(fin)"
   ]
  },
  {
   "cell_type": "code",
   "execution_count": 17,
   "id": "0ec093ac-1aed-41a5-840f-dd5866433938",
   "metadata": {},
   "outputs": [
    {
     "name": "stdout",
     "output_type": "stream",
     "text": [
      "114541:0.0\n",
      "30531:1.0\n",
      "30693:0.0\n"
     ]
    },
    {
     "ename": "KeyboardInterrupt",
     "evalue": "",
     "output_type": "error",
     "traceback": [
      "\u001b[0;31m---------------------------------------------------------------------------\u001b[0m",
      "\u001b[0;31mKeyboardInterrupt\u001b[0m                         Traceback (most recent call last)",
      "Cell \u001b[0;32mIn [17], line 2\u001b[0m\n\u001b[1;32m      1\u001b[0m \u001b[38;5;28;01mfor\u001b[39;00m i \u001b[38;5;129;01min\u001b[39;00m client_ids_in_features_test:\n\u001b[0;32m----> 2\u001b[0m     p \u001b[38;5;241m=\u001b[39m \u001b[43mfun\u001b[49m\u001b[43m(\u001b[49m\u001b[38;5;28;43mlist\u001b[39;49m\u001b[43m(\u001b[49m\u001b[43mfinal_features_traintest\u001b[49m\u001b[38;5;241;43m.\u001b[39;49m\u001b[43mloc\u001b[49m\u001b[43m[\u001b[49m\u001b[43mfinal_features_traintest\u001b[49m\u001b[43m[\u001b[49m\u001b[38;5;124;43m'\u001b[39;49m\u001b[38;5;124;43mCLIENT_ID\u001b[39;49m\u001b[38;5;124;43m'\u001b[39;49m\u001b[43m]\u001b[49m\u001b[43m \u001b[49m\u001b[38;5;241;43m==\u001b[39;49m\u001b[43m \u001b[49m\u001b[43mi\u001b[49m\u001b[43m]\u001b[49m\u001b[38;5;241;43m.\u001b[39;49m\u001b[43mvalues\u001b[49m\u001b[43m[\u001b[49m\u001b[38;5;241;43m0\u001b[39;49m\u001b[43m]\u001b[49m\u001b[43m[\u001b[49m\u001b[38;5;241;43m1\u001b[39;49m\u001b[43m:\u001b[49m\u001b[43m]\u001b[49m\u001b[43m)\u001b[49m\u001b[43m)\u001b[49m\n\u001b[1;32m      3\u001b[0m     \u001b[38;5;28mprint\u001b[39m(\u001b[38;5;124m'\u001b[39m\u001b[38;5;132;01m{}\u001b[39;00m\u001b[38;5;124m:\u001b[39m\u001b[38;5;132;01m{}\u001b[39;00m\u001b[38;5;124m'\u001b[39m\u001b[38;5;241m.\u001b[39mformat(i, p))\n",
      "Cell \u001b[0;32mIn [14], line 11\u001b[0m, in \u001b[0;36mfun\u001b[0;34m(x)\u001b[0m\n\u001b[1;32m      9\u001b[0m \u001b[38;5;28;01mfor\u001b[39;00m i \u001b[38;5;129;01min\u001b[39;00m target_false:\n\u001b[1;32m     10\u001b[0m     l_temp \u001b[38;5;241m=\u001b[39m []\n\u001b[0;32m---> 11\u001b[0m     \u001b[38;5;28;01mfor\u001b[39;00m j \u001b[38;5;129;01min\u001b[39;00m \u001b[38;5;28mrange\u001b[39m(\u001b[38;5;28mlen\u001b[39m(i)):\n\u001b[1;32m     12\u001b[0m         l_temp\u001b[38;5;241m.\u001b[39mappend((i[j] \u001b[38;5;241m-\u001b[39m x[j])\u001b[38;5;241m*\u001b[39m\u001b[38;5;241m*\u001b[39m\u001b[38;5;241m2\u001b[39m)\n\u001b[1;32m     13\u001b[0m     ln\u001b[38;5;241m.\u001b[39mappend(\u001b[38;5;28msum\u001b[39m(l_temp)\u001b[38;5;241m*\u001b[39m\u001b[38;5;241m*\u001b[39m\u001b[38;5;241m0.5\u001b[39m)\n",
      "\u001b[0;31mKeyboardInterrupt\u001b[0m: "
     ]
    }
   ],
   "source": [
    "for i in client_ids_in_features_test:\n",
    "    p = fun(list(final_features_traintest.loc[final_features_traintest['CLIENT_ID'] == i].values[0][1:]))\n",
    "    print('{}:{}'.format(i, p))\n",
    "\n"
   ]
  },
  {
   "cell_type": "code",
   "execution_count": null,
   "id": "3406abe3-90c7-4887-ba5f-d533f960c6d5",
   "metadata": {},
   "outputs": [],
   "source": []
  },
  {
   "cell_type": "code",
   "execution_count": null,
   "id": "856a2d8d-2fb2-4f4d-ae46-4dee18623fb8",
   "metadata": {},
   "outputs": [],
   "source": []
  }
 ],
 "metadata": {
  "kernelspec": {
   "display_name": "Python 3 (ipykernel)",
   "language": "python",
   "name": "python3"
  },
  "language_info": {
   "codemirror_mode": {
    "name": "ipython",
    "version": 3
   },
   "file_extension": ".py",
   "mimetype": "text/x-python",
   "name": "python",
   "nbconvert_exporter": "python",
   "pygments_lexer": "ipython3",
   "version": "3.9.7"
  }
 },
 "nbformat": 4,
 "nbformat_minor": 5
}
